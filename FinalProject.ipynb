{
 "cells": [
  {
   "cell_type": "markdown",
   "metadata": {},
   "source": [
    "# COGS 108 - Final Project "
   ]
  },
  {
   "cell_type": "markdown",
   "metadata": {},
   "source": [
    "# Overview"
   ]
  },
  {
   "cell_type": "markdown",
   "metadata": {},
   "source": [
    "The research conducted focuses on the effect of time on the karma genreated for a given post on Reddit. We investigate the optimal time of day, and day of the week to post on 'r/funny' that would generate the greatest amount of upvotes, comments and views that readily predict a high karma count. The findinds of this research question are useful beyond the trivial matter of boosting karma, they are valuable for businesses that use Reddit for marketing, for election posts that desire the greatest audience, for the greatest exposure to breaking news and controversial matters, etc. The implications of the research question at hand are great and can be further applied when additional subreddits are integrated. \n",
    "\n",
    "Our findings suggest that the optimal time to post for a high karma count are:.."
   ]
  },
  {
   "cell_type": "markdown",
   "metadata": {},
   "source": [
    "# Names\n",
    "\n",
    "- Cyrus Shen\n",
    "- Randy Vo\n",
    "- Kimberly Chuong\n",
    "- Josue Ayala\n",
    "- Conner Henderson\n",
    "- Mykel Rodriguez"
   ]
  },
  {
   "cell_type": "markdown",
   "metadata": {},
   "source": [
    "# Group Members IDs\n",
    "\n",
    "- A########\n",
    "- A########\n",
    "- A########\n",
    "- A########\n",
    "- A########"
   ]
  },
  {
   "cell_type": "markdown",
   "metadata": {},
   "source": [
    "# Research Question"
   ]
  },
  {
   "cell_type": "markdown",
   "metadata": {},
   "source": [
    "What day of the week and time of day is optimal for maximizing the amount of karma for a given post on the r/funny subreddit of Reddit?"
   ]
  },
  {
   "cell_type": "markdown",
   "metadata": {},
   "source": [
    "## Background and Prior Work"
   ]
  },
  {
   "cell_type": "markdown",
   "metadata": {},
   "source": [
    "To run analysis on reddit data, we first had to gain permission to use Reddit's API. The API is readily accessibe after registering for use, and is easily manipulated using the Reddit API wrapper, Python praw. \n",
    "References (include links):\n",
    "- 1)\n",
    "- 2)"
   ]
  },
  {
   "cell_type": "markdown",
   "metadata": {},
   "source": [
    "# Hypothesis\n"
   ]
  },
  {
   "cell_type": "markdown",
   "metadata": {},
   "source": [
    "We predict that the weekends will be more effective for karma than weekdays and that evenings will be more effective than mornings and afternoons. Specificlaly, we predict that Saturday at 9pm will have the most posts overall with the highest upvotes and comments. "
   ]
  },
  {
   "cell_type": "markdown",
   "metadata": {},
   "source": [
    "# Dataset(s)"
   ]
  },
  {
   "cell_type": "markdown",
   "metadata": {},
   "source": [
    "*Fill in your dataset information here*\n",
    "\n",
    "(Copy this information for each dataset)\n",
    "- Dataset Name:\n",
    "- Link to the dataset:\n",
    "- Number of observations:\n",
    "\n",
    "1-2 sentences describing each dataset. \n",
    "\n",
    "If you plan to use multiple datasets, add 1-2 sentences about how you plan to combine these datasets."
   ]
  },
  {
   "cell_type": "markdown",
   "metadata": {},
   "source": [
    "# Setup"
   ]
  },
  {
   "cell_type": "code",
   "execution_count": 3,
   "metadata": {},
   "outputs": [],
   "source": [
    "## YOUR CODE HERE"
   ]
  },
  {
   "cell_type": "markdown",
   "metadata": {},
   "source": [
    "# Data Cleaning"
   ]
  },
  {
   "cell_type": "markdown",
   "metadata": {},
   "source": [
    "Describe your data cleaning steps here."
   ]
  },
  {
   "cell_type": "code",
   "execution_count": 4,
   "metadata": {},
   "outputs": [],
   "source": [
    "## YOUR CODE HERE\n",
    "## FEEL FREE TO ADD MULTIPLE CELLS PER SECTION"
   ]
  },
  {
   "cell_type": "markdown",
   "metadata": {},
   "source": [
    "# Data Analysis & Results"
   ]
  },
  {
   "cell_type": "markdown",
   "metadata": {},
   "source": [
    "Include cells that describe the steps in your data analysis."
   ]
  },
  {
   "cell_type": "code",
   "execution_count": 5,
   "metadata": {},
   "outputs": [],
   "source": [
    "## YOUR CODE HERE\n",
    "## FEEL FREE TO ADD MULTIPLE CELLS PER SECTION"
   ]
  },
  {
   "cell_type": "markdown",
   "metadata": {},
   "source": [
    "# Ethics & Privacy"
   ]
  },
  {
   "cell_type": "markdown",
   "metadata": {},
   "source": [
    "   As discussed in the introduction of our research, the implicaitons of this data is great. Although there are many limitations in the methods of our data collection process, the concept of this research question is very important. Using the data from this research in other subreddits could lead to more serious effects on post interaction. Users could utilize these findings to strategically generate the most karma per post, click-farms can capitilize on this time efficacy, companies can maximize the monetary value of their marketing posts, and unfortunately, hategroups or negative propganda posts can also rely on this data for maximum viewer exposure and sharing potential.\n",
    "\n",
    "   Additionally, although we do not collect any personally identifying information, the data collected is user generated and therefore may lead to a loss of confidentiality in ways we cannot forsee. For example, one issue we encountered was when we collected the current online active subscribers of r/funny; these username identifications are mostly annonymous but can inherently contain personally identifying aspects. Furthermore, if these research methods are expanded to mutiple subreddits, users can be cross idenified as being active in various subreddits that are personally identifying that can very well lead to loss of annomitiy. "
   ]
  },
  {
   "cell_type": "markdown",
   "metadata": {},
   "source": [
    "# Conclusion & Discussion"
   ]
  },
  {
   "cell_type": "markdown",
   "metadata": {},
   "source": [
    "*Fill in your discussion information here*"
   ]
  }
 ],
 "metadata": {
  "kernelspec": {
   "display_name": "Python 3",
   "language": "python",
   "name": "python3"
  },
  "language_info": {
   "codemirror_mode": {
    "name": "ipython",
    "version": 3
   },
   "file_extension": ".py",
   "mimetype": "text/x-python",
   "name": "python",
   "nbconvert_exporter": "python",
   "pygments_lexer": "ipython3",
   "version": "3.6.7"
  }
 },
 "nbformat": 4,
 "nbformat_minor": 2
}
